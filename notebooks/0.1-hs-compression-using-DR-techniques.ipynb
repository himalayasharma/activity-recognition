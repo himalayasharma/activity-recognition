{
 "cells": [
  {
   "cell_type": "markdown",
   "id": "78c0a675-0da0-4a3e-8782-a40c2dd87601",
   "metadata": {},
   "source": [
    "# Import packages"
   ]
  },
  {
   "cell_type": "code",
   "execution_count": 1,
   "id": "1f541a06-1f05-4546-8c19-3df67e99f21b",
   "metadata": {},
   "outputs": [],
   "source": [
    "import os, wget, zipfile\n",
    "import pandas as pd\n",
    "import numpy as np\n",
    "import sklearn"
   ]
  },
  {
   "cell_type": "markdown",
   "id": "eec9fa27-5b70-4e6e-89ec-28ec49a3ccb1",
   "metadata": {},
   "source": [
    "# Download and extract data"
   ]
  },
  {
   "cell_type": "code",
   "execution_count": 2,
   "id": "f23be536-413b-44e4-9743-ce09f45f911b",
   "metadata": {},
   "outputs": [],
   "source": [
    "def download_data(destination_dir, url=\"https://www.ncbi.nlm.nih.gov/pmc/articles/PMC6960825/bin/sensors-19-05524-s001.zip\"):\n",
    "\n",
    "    # Make path if does not exits\n",
    "    if(os.path.exists(destination_dir) == False):\n",
    "        os.makedirs(destination_dir)\n",
    "    # Download data if it does not exist on disk\n",
    "    if(os.path.exists(os.path.join(destination_dir, \"sensors-19-05524-s001.zip\")) == False):\n",
    "        wget.download(url, destination_dir)\n",
    "        \n",
    "def extract_data(data_dir, filename=\"sensors-19-05524-s001.zip\"):\n",
    "    \n",
    "    with zipfile.ZipFile(os.path.join(data_dir, filename), 'r') as zip_ref:\n",
    "        zip_ref.extractall(data_dir)"
   ]
  },
  {
   "cell_type": "code",
   "execution_count": 3,
   "id": "d402750c-b9c1-44b5-87d9-7f4691c28eca",
   "metadata": {},
   "outputs": [],
   "source": [
    "# Specify project root directory\n",
    "root_dir = \"/mnt/Disk-2/My Stuff/UWaterloo/Coursework/Spring'22/ECE 659/Project/activity-recognition/\"\n",
    "# Specify data directory\n",
    "raw_data_dir = os.path.join(root_dir, 'data/raw')\n",
    "# Download data\n",
    "download_data(raw_data_dir)\n",
    "# Extract data\n",
    "extract_data(raw_data_dir)"
   ]
  },
  {
   "cell_type": "markdown",
   "id": "f1be7b85-7193-45f6-946c-1374d5982903",
   "metadata": {},
   "source": [
    "# Load data"
   ]
  },
  {
   "cell_type": "code",
   "execution_count": 4,
   "id": "4f19dada-49c4-4348-8c12-b96ea93cb1e3",
   "metadata": {},
   "outputs": [],
   "source": [
    "# Load data\n",
    "data_path = os.path.join(raw_data_dir, 'data.txt')\n",
    "data = pd.read_csv(data_path, header=None)\n",
    "\n",
    "# Load column headers\n",
    "column_headers_path = os.path.join(raw_data_dir, 'labels.txt')\n",
    "column_headers = np.loadtxt(column_headers_path, delimiter='\\n', dtype='str')\n",
    "\n",
    "# Insert column headers\n",
    "data.columns = column_headers"
   ]
  },
  {
   "cell_type": "markdown",
   "id": "739fbb47-a5ea-44b2-8120-b23956f1e240",
   "metadata": {
    "tags": []
   },
   "source": [
    "# Data wrangling"
   ]
  },
  {
   "cell_type": "code",
   "execution_count": 5,
   "id": "a07c09e1-6b91-407b-b17b-f49140d6aa63",
   "metadata": {},
   "outputs": [],
   "source": [
    "# Get input data\n",
    "X = data.iloc[:, :-1]\n",
    "X = np.array(X)\n",
    "\n",
    "# Get target\n",
    "y = np.array(data.iloc[:, -1])\n",
    "# Conversion process - '\\x01.0f' ---> replace('.0f', '') ---> '\\x01' ---> ord() ---> 1\n",
    "y = np.array(list(map(lambda x:ord(x.replace('.0f', '')), y))).astype('float')"
   ]
  },
  {
   "cell_type": "code",
   "execution_count": 6,
   "id": "72fece5b-6dac-43cb-ad7d-b7bebc88572f",
   "metadata": {},
   "outputs": [],
   "source": [
    "# Split data into train and test sets\n",
    "from sklearn.model_selection import train_test_split\n",
    "\n",
    "X_train, X_test, y_train, y_test = train_test_split(X, y, test_size=0.2)"
   ]
  },
  {
   "cell_type": "code",
   "execution_count": 7,
   "id": "ef6092ed-dc1b-45e0-acc1-e406986b453b",
   "metadata": {},
   "outputs": [],
   "source": [
    "# Normalize data\n",
    "from sklearn.preprocessing import MinMaxScaler\n",
    "\n",
    "scaler = MinMaxScaler()\n",
    "scaler.fit(X_train)\n",
    "X_train, X_test = scaler.transform(X_train), scaler.transform(X_test)"
   ]
  },
  {
   "cell_type": "markdown",
   "id": "ee65b1c3-6fed-4232-a984-cfa4f3ed777c",
   "metadata": {},
   "source": [
    "# Dimensionality reduction"
   ]
  },
  {
   "cell_type": "code",
   "execution_count": 8,
   "id": "6ab73c97-02c0-4957-a95f-1fd31d901a2d",
   "metadata": {},
   "outputs": [],
   "source": [
    "dr_data_dict = dict()"
   ]
  },
  {
   "cell_type": "markdown",
   "id": "9929df4e-5998-4316-a2fd-783c1b17037a",
   "metadata": {},
   "source": [
    "## I. Linear methods\n",
    "### 1. PCA"
   ]
  },
  {
   "cell_type": "code",
   "execution_count": 9,
   "id": "dc2530cb-203a-4f6e-988f-1f47adf50f72",
   "metadata": {},
   "outputs": [],
   "source": [
    "from sklearn.decomposition import PCA\n",
    "\n",
    "pca = PCA(n_components=2)\n",
    "pca.fit(X_train)\n",
    "dr_data_dict['pca'] = (pca.transform(X_train), pca.transform(X_test))"
   ]
  },
  {
   "cell_type": "markdown",
   "id": "366442b1-cc20-4229-a835-a8b9ad1096ae",
   "metadata": {},
   "source": [
    "### 2. LDA"
   ]
  },
  {
   "cell_type": "code",
   "execution_count": 10,
   "id": "5ce2948e-7b2b-4c79-831f-4c1da3936d7b",
   "metadata": {},
   "outputs": [],
   "source": [
    "from sklearn.discriminant_analysis import LinearDiscriminantAnalysis\n",
    "\n",
    "lda = LinearDiscriminantAnalysis(n_components=2)\n",
    "lda.fit(X_train, y_train)\n",
    "dr_data_dict['lda'] = (lda.transform(X_train), lda.transform(X_test))"
   ]
  },
  {
   "cell_type": "markdown",
   "id": "36c4dbcf-1dbd-4878-bfd3-bc0e297b78a0",
   "metadata": {},
   "source": [
    "### 3. Truncated SVD"
   ]
  },
  {
   "cell_type": "code",
   "execution_count": 11,
   "id": "906434c7-13aa-403d-8f9e-476edcd6dad9",
   "metadata": {},
   "outputs": [],
   "source": [
    "from sklearn.decomposition import TruncatedSVD\n",
    "\n",
    "truncated_svd = TruncatedSVD(n_components=2)\n",
    "truncated_svd.fit(X_train)\n",
    "dr_data_dict['truncated_svd'] = (truncated_svd.transform(X_train), truncated_svd.transform(X_test))"
   ]
  },
  {
   "cell_type": "markdown",
   "id": "27cc06ef-eb9c-41b8-8780-d2a81c254493",
   "metadata": {},
   "source": [
    "## II. Non-linear methods"
   ]
  },
  {
   "cell_type": "code",
   "execution_count": null,
   "id": "67392779-b18a-4dd7-92de-9ec99ed96bf1",
   "metadata": {},
   "outputs": [],
   "source": []
  }
 ],
 "metadata": {
  "kernelspec": {
   "display_name": "Python 3 (ipykernel)",
   "language": "python",
   "name": "python3"
  },
  "language_info": {
   "codemirror_mode": {
    "name": "ipython",
    "version": 3
   },
   "file_extension": ".py",
   "mimetype": "text/x-python",
   "name": "python",
   "nbconvert_exporter": "python",
   "pygments_lexer": "ipython3",
   "version": "3.8.10"
  }
 },
 "nbformat": 4,
 "nbformat_minor": 5
}
