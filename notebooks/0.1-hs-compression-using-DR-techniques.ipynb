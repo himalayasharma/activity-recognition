{
 "cells": [
  {
   "cell_type": "markdown",
   "id": "78c0a675-0da0-4a3e-8782-a40c2dd87601",
   "metadata": {},
   "source": [
    "# Import packages"
   ]
  },
  {
   "cell_type": "code",
   "execution_count": 5,
   "id": "1f541a06-1f05-4546-8c19-3df67e99f21b",
   "metadata": {},
   "outputs": [],
   "source": [
    "import os, wget, zipfile"
   ]
  },
  {
   "cell_type": "markdown",
   "id": "eec9fa27-5b70-4e6e-89ec-28ec49a3ccb1",
   "metadata": {},
   "source": [
    "# Download and extract data"
   ]
  },
  {
   "cell_type": "code",
   "execution_count": 6,
   "id": "f23be536-413b-44e4-9743-ce09f45f911b",
   "metadata": {},
   "outputs": [],
   "source": [
    "def download_data(destination_dir, url=\"https://archive.ics.uci.edu/ml/machine-learning-databases/00552/data.zip\"):\n",
    "\n",
    "    # Make path if does not exits\n",
    "    if(os.path.exists(destination_dir) == False):\n",
    "        os.makedirs(destination_dir)\n",
    "    # Download data if it does not exist on disk\n",
    "    if(os.path.exists(os.path.join(destination_dir, \"data.zip\")) == False):\n",
    "        wget.download(url, destination_dir)\n",
    "        \n",
    "def extract_data(data_dir, filename=\"data.zip\"):\n",
    "    \n",
    "    with zipfile.ZipFile(os.path.join(data_dir, filename), 'r') as zip_ref:\n",
    "        zip_ref.extractall(data_dir)"
   ]
  },
  {
   "cell_type": "code",
   "execution_count": 7,
   "id": "d402750c-b9c1-44b5-87d9-7f4691c28eca",
   "metadata": {},
   "outputs": [
    {
     "name": "stdout",
     "output_type": "stream",
     "text": [
      "100% [................................................................................] 1117 / 1117"
     ]
    }
   ],
   "source": [
    "root_dir = \"/mnt/Disk-2/My Stuff/UWaterloo/Coursework/Spring'22/ECE 659/Project/activity-recognition/\"\n",
    "raw_data_dir = os.path.join(root_dir, 'data/raw')\n",
    "download_data(raw_data_dir)\n",
    "extract_data(raw_data_dir)"
   ]
  }
 ],
 "metadata": {
  "kernelspec": {
   "display_name": "Python 3 (ipykernel)",
   "language": "python",
   "name": "python3"
  },
  "language_info": {
   "codemirror_mode": {
    "name": "ipython",
    "version": 3
   },
   "file_extension": ".py",
   "mimetype": "text/x-python",
   "name": "python",
   "nbconvert_exporter": "python",
   "pygments_lexer": "ipython3",
   "version": "3.8.10"
  }
 },
 "nbformat": 4,
 "nbformat_minor": 5
}
